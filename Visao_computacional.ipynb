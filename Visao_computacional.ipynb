{
  "nbformat": 4,
  "nbformat_minor": 0,
  "metadata": {
    "colab": {
      "provenance": [],
      "mount_file_id": "1yRDk-INAdzEOATsYHNQqPmjfoZXEPwe5",
      "authorship_tag": "ABX9TyN+xRpa3w6Qf4hMx9w1qt5T",
      "include_colab_link": true
    },
    "kernelspec": {
      "name": "python3",
      "display_name": "Python 3"
    },
    "language_info": {
      "name": "python"
    }
  },
  "cells": [
    {
      "cell_type": "markdown",
      "metadata": {
        "id": "view-in-github",
        "colab_type": "text"
      },
      "source": [
        "<a href=\"https://colab.research.google.com/github/edgarreis/text-recognize/blob/main/Visao_computacional.ipynb\" target=\"_parent\"><img src=\"https://colab.research.google.com/assets/colab-badge.svg\" alt=\"Open In Colab\"/></a>"
      ]
    },
    {
      "cell_type": "code",
      "execution_count": null,
      "metadata": {
        "colab": {
          "base_uri": "https://localhost:8080/"
        },
        "id": "7exaH_ktl2iE",
        "outputId": "9cb88fd0-3a64-4950-f028-66814efae2ad"
      },
      "outputs": [
        {
          "output_type": "stream",
          "name": "stdout",
          "text": [
            "Requirement already satisfied: opencv-python in /usr/local/lib/python3.10/dist-packages (4.8.0.76)\n",
            "Requirement already satisfied: numpy>=1.21.2 in /usr/local/lib/python3.10/dist-packages (from opencv-python) (1.23.5)\n",
            "Reading package lists... Done\n",
            "Building dependency tree... Done\n",
            "Reading state information... Done\n",
            "tesseract-ocr is already the newest version (4.1.1-2.1build1).\n",
            "0 upgraded, 0 newly installed, 0 to remove and 18 not upgraded.\n",
            "Requirement already satisfied: pytesseract==0.3.9 in /usr/local/lib/python3.10/dist-packages (0.3.9)\n",
            "Requirement already satisfied: packaging>=21.3 in /usr/local/lib/python3.10/dist-packages (from pytesseract==0.3.9) (23.1)\n",
            "Requirement already satisfied: Pillow>=8.0.0 in /usr/local/lib/python3.10/dist-packages (from pytesseract==0.3.9) (9.4.0)\n",
            "Reading package lists... Done\n",
            "Building dependency tree... Done\n",
            "Reading state information... Done\n",
            "tesseract-ocr-por is already the newest version (1:4.00~git30-7274cfa-1.1).\n",
            "0 upgraded, 0 newly installed, 0 to remove and 18 not upgraded.\n"
          ]
        }
      ],
      "source": [
        "# Instalação Libs\n",
        "\n",
        "!pip install opencv-python\n",
        "!sudo apt install tesseract-ocr\n",
        "!pip install pytesseract==0.3.9\n",
        "#!tesseract --list-langs\n",
        "!apt-get install tesseract-ocr-por"
      ]
    },
    {
      "cell_type": "code",
      "source": [
        "# Importar dependências\n",
        "\n",
        "import pytesseract\n",
        "import numpy as np\n",
        "import matplotlib.pyplot as plt\n",
        "import cv2\n",
        "import re\n",
        "from google.colab.patches import cv2_imshow\n",
        "from PIL import Image\n",
        "from pytesseract import Output\n",
        "from PIL import ImageFont, ImageDraw, Image\n",
        "\n"
      ],
      "metadata": {
        "id": "Ks4s9JTRmFyw",
        "colab": {
          "base_uri": "https://localhost:8080/",
          "height": 383
        },
        "outputId": "154dc292-04ec-4149-d262-d2e17ebd0b0d"
      },
      "execution_count": null,
      "outputs": [
        {
          "output_type": "error",
          "ename": "ModuleNotFoundError",
          "evalue": "ignored",
          "traceback": [
            "\u001b[0;31m---------------------------------------------------------------------------\u001b[0m",
            "\u001b[0;31mModuleNotFoundError\u001b[0m                       Traceback (most recent call last)",
            "\u001b[0;32m<ipython-input-1-d58f084ed9b9>\u001b[0m in \u001b[0;36m<cell line: 3>\u001b[0;34m()\u001b[0m\n\u001b[1;32m      1\u001b[0m \u001b[0;31m# Importar dependências\u001b[0m\u001b[0;34m\u001b[0m\u001b[0;34m\u001b[0m\u001b[0m\n\u001b[1;32m      2\u001b[0m \u001b[0;34m\u001b[0m\u001b[0m\n\u001b[0;32m----> 3\u001b[0;31m \u001b[0;32mimport\u001b[0m \u001b[0mpytesseract\u001b[0m\u001b[0;34m\u001b[0m\u001b[0;34m\u001b[0m\u001b[0m\n\u001b[0m\u001b[1;32m      4\u001b[0m \u001b[0;32mimport\u001b[0m \u001b[0mnumpy\u001b[0m \u001b[0;32mas\u001b[0m \u001b[0mnp\u001b[0m\u001b[0;34m\u001b[0m\u001b[0;34m\u001b[0m\u001b[0m\n\u001b[1;32m      5\u001b[0m \u001b[0;32mimport\u001b[0m \u001b[0mmatplotlib\u001b[0m\u001b[0;34m.\u001b[0m\u001b[0mpyplot\u001b[0m \u001b[0;32mas\u001b[0m \u001b[0mplt\u001b[0m\u001b[0;34m\u001b[0m\u001b[0;34m\u001b[0m\u001b[0m\n",
            "\u001b[0;31mModuleNotFoundError\u001b[0m: No module named 'pytesseract'",
            "",
            "\u001b[0;31m---------------------------------------------------------------------------\u001b[0;32m\nNOTE: If your import is failing due to a missing package, you can\nmanually install dependencies using either !pip or !apt.\n\nTo view examples of installing some common dependencies, click the\n\"Open Examples\" button below.\n\u001b[0;31m---------------------------------------------------------------------------\u001b[0m\n"
          ],
          "errorDetails": {
            "actions": [
              {
                "action": "open_url",
                "actionText": "Open Examples",
                "url": "/notebooks/snippets/importing_libraries.ipynb"
              }
            ]
          }
        }
      ]
    },
    {
      "cell_type": "code",
      "source": [
        "# Importar Pasta de Linguas pré-definidas\n",
        "\n",
        "!mkdir tessdata\n",
        "\n",
        "!wget -O ./tessdata/por.traineddata https://github.com/tesseract-ocr/tessdata/blob/main/por.traineddata?raw=true\n",
        "!wget -O ./tessdata/eng.traineddata https://github.com/tesseract-ocr/tessdata/blob/main/eng.traineddata?raw=true"
      ],
      "metadata": {
        "colab": {
          "base_uri": "https://localhost:8080/"
        },
        "id": "RRzFf0x3qkiL",
        "outputId": "c99f2193-d8c8-490f-c100-51cd5f937d37"
      },
      "execution_count": null,
      "outputs": [
        {
          "output_type": "stream",
          "name": "stdout",
          "text": [
            "mkdir: cannot create directory ‘tessdata’: File exists\n",
            "--2023-10-01 20:07:29--  https://github.com/tesseract-ocr/tessdata/blob/main/por.traineddata?raw=true\n",
            "Resolving github.com (github.com)... 140.82.112.4\n",
            "Connecting to github.com (github.com)|140.82.112.4|:443... connected.\n",
            "HTTP request sent, awaiting response... 302 Found\n",
            "Location: https://github.com/tesseract-ocr/tessdata/raw/main/por.traineddata [following]\n",
            "--2023-10-01 20:07:29--  https://github.com/tesseract-ocr/tessdata/raw/main/por.traineddata\n",
            "Reusing existing connection to github.com:443.\n",
            "HTTP request sent, awaiting response... 302 Found\n",
            "Location: https://raw.githubusercontent.com/tesseract-ocr/tessdata/main/por.traineddata [following]\n",
            "--2023-10-01 20:07:30--  https://raw.githubusercontent.com/tesseract-ocr/tessdata/main/por.traineddata\n",
            "Resolving raw.githubusercontent.com (raw.githubusercontent.com)... 185.199.108.133, 185.199.109.133, 185.199.110.133, ...\n",
            "Connecting to raw.githubusercontent.com (raw.githubusercontent.com)|185.199.108.133|:443... connected.\n",
            "HTTP request sent, awaiting response... 200 OK\n",
            "Length: 15336931 (15M) [application/octet-stream]\n",
            "Saving to: ‘./tessdata/por.traineddata’\n",
            "\n",
            "./tessdata/por.trai 100%[===================>]  14.63M  --.-KB/s    in 0.1s    \n",
            "\n",
            "2023-10-01 20:07:30 (120 MB/s) - ‘./tessdata/por.traineddata’ saved [15336931/15336931]\n",
            "\n",
            "--2023-10-01 20:07:30--  https://github.com/tesseract-ocr/tessdata/blob/main/eng.traineddata?raw=true\n",
            "Resolving github.com (github.com)... 140.82.113.4\n",
            "Connecting to github.com (github.com)|140.82.113.4|:443... connected.\n",
            "HTTP request sent, awaiting response... 302 Found\n",
            "Location: https://github.com/tesseract-ocr/tessdata/raw/main/eng.traineddata [following]\n",
            "--2023-10-01 20:07:30--  https://github.com/tesseract-ocr/tessdata/raw/main/eng.traineddata\n",
            "Reusing existing connection to github.com:443.\n",
            "HTTP request sent, awaiting response... 302 Found\n",
            "Location: https://raw.githubusercontent.com/tesseract-ocr/tessdata/main/eng.traineddata [following]\n",
            "--2023-10-01 20:07:30--  https://raw.githubusercontent.com/tesseract-ocr/tessdata/main/eng.traineddata\n",
            "Resolving raw.githubusercontent.com (raw.githubusercontent.com)... 185.199.110.133, 185.199.108.133, 185.199.111.133, ...\n",
            "Connecting to raw.githubusercontent.com (raw.githubusercontent.com)|185.199.110.133|:443... connected.\n",
            "HTTP request sent, awaiting response... 200 OK\n",
            "Length: 23466654 (22M) [application/octet-stream]\n",
            "Saving to: ‘./tessdata/eng.traineddata’\n",
            "\n",
            "./tessdata/eng.trai 100%[===================>]  22.38M  --.-KB/s    in 0.1s    \n",
            "\n",
            "2023-10-01 20:07:31 (163 MB/s) - ‘./tessdata/eng.traineddata’ saved [23466654/23466654]\n",
            "\n"
          ]
        }
      ]
    },
    {
      "cell_type": "code",
      "source": [],
      "metadata": {
        "id": "Ed7lF5U-m4c0"
      },
      "execution_count": null,
      "outputs": []
    },
    {
      "cell_type": "code",
      "source": [
        "def caixa_texto(texto, img, cor = (255, 100, 0)):\n",
        "  x = resultado['left'][i]\n",
        "  y = resultado['top'][i]\n",
        "  w = resultado['width'][i]\n",
        "  h = resultado['height'][i]\n",
        "\n",
        "  cv2.rectangle(img, (x,y), (x+w,y+h), cor, 2)\n",
        "\n",
        "  return x, y, img\n",
        "\n",
        "\n",
        "def escreve_texto(texto, x, y, img, fonte, tamanho_texto = 32, cor_texto = (0, 0, 255)):\n",
        "  # Defina a cor do texto como vermelho (BGR: 0, 0, 255)\n",
        "\n",
        "  fonte = ImageFont.truetype(fonte, tamanho_texto)\n",
        "  img_pil = Image.fromarray(img)\n",
        "  draw = ImageDraw.Draw(img_pil)\n",
        "  draw.text((x, y - tamanho_texto), texto, font = fonte, fill = cor_texto)\n",
        "  img = np.array(img_pil)\n",
        "\n",
        "  return img\n"
      ],
      "metadata": {
        "id": "wIfCmP8dm4Ng"
      },
      "execution_count": null,
      "outputs": []
    },
    {
      "cell_type": "markdown",
      "source": [
        "**AULA 4**\n",
        "\n",
        "Busca de informações\n",
        "\n",
        "*Regular Expressions - RE*"
      ],
      "metadata": {
        "id": "aOagcQ0HnaGN"
      }
    },
    {
      "cell_type": "code",
      "source": [
        "\n",
        "# Importação\n",
        "img = cv2.imread('/content/drive/MyDrive/Colab Notebooks/Imagens/Aula4-tabela_teste.png')\n",
        "rgb = cv2.cvtColor(img, cv2.COLOR_BGR2RGB)\n",
        "#cv2_imshow(rgb)\n",
        "\n",
        "# Pré-processamento da imagem (imagem para metadados)\n",
        "config_tesseract = '--tessdata-dir tessdata'\n",
        "resultado = pytesseract.image_to_data(rgb, config = config_tesseract, lang = 'por', output_type = Output.DICT)\n",
        "\n",
        "# Identificação da Palavras e Marcação\n",
        "img_copia = rgb.copy()\n",
        "min_conf = 40\n",
        "tipo_fonte = '/content/drive/MyDrive/Colab Notebooks/Imagens/calibri.ttf'\n",
        "datas = []\n",
        "cor_vermelho = (0,0,255)\n",
        "padrao_data = '^[0-9]{1,2}\\\\/[0-9]{1,2}\\\\/[0-9]{4}$' # datas tipo: ['10/02/2021', '04/02/2021']\n",
        "\n",
        "for i in range(len(resultado['text'])):\n",
        "  confianca = int(resultado['conf'][i])\n",
        "\n",
        "  if confianca > min_conf:\n",
        "    texto = resultado['text'][i]\n",
        "\n",
        "    if re.match(padrao_data, texto):\n",
        "      x, y, img = caixa_texto(resultado, img_copia, cor_vermelho)\n",
        "      img_copia = escreve_texto(texto, x, y, img_copia, tipo_fonte, tamanho_texto=18)\n",
        "      datas.append(texto)\n",
        "    else:\n",
        "      x, y, img = caixa_texto(resultado, img_copia)\n",
        "\n",
        "cv2_imshow(img_copia)\n"
      ],
      "metadata": {
        "colab": {
          "base_uri": "https://localhost:8080/",
          "height": 245
        },
        "id": "pAR-DJq3nnPE",
        "outputId": "a78d2788-0fe4-4b5b-d740-52b7d493f25e"
      },
      "execution_count": null,
      "outputs": [
        {
          "output_type": "error",
          "ename": "NameError",
          "evalue": "ignored",
          "traceback": [
            "\u001b[0;31m---------------------------------------------------------------------------\u001b[0m",
            "\u001b[0;31mNameError\u001b[0m                                 Traceback (most recent call last)",
            "\u001b[0;32m<ipython-input-2-c128c09049ed>\u001b[0m in \u001b[0;36m<cell line: 2>\u001b[0;34m()\u001b[0m\n\u001b[1;32m      1\u001b[0m \u001b[0;31m# Importação\u001b[0m\u001b[0;34m\u001b[0m\u001b[0;34m\u001b[0m\u001b[0m\n\u001b[0;32m----> 2\u001b[0;31m \u001b[0mimg\u001b[0m \u001b[0;34m=\u001b[0m \u001b[0mcv2\u001b[0m\u001b[0;34m.\u001b[0m\u001b[0mimread\u001b[0m\u001b[0;34m(\u001b[0m\u001b[0;34m'/content/drive/MyDrive/Colab Notebooks/Imagens/Aula4-tabela_teste.png'\u001b[0m\u001b[0;34m)\u001b[0m\u001b[0;34m\u001b[0m\u001b[0;34m\u001b[0m\u001b[0m\n\u001b[0m\u001b[1;32m      3\u001b[0m \u001b[0mrgb\u001b[0m \u001b[0;34m=\u001b[0m \u001b[0mcv2\u001b[0m\u001b[0;34m.\u001b[0m\u001b[0mcvtColor\u001b[0m\u001b[0;34m(\u001b[0m\u001b[0mimg\u001b[0m\u001b[0;34m,\u001b[0m \u001b[0mcv2\u001b[0m\u001b[0;34m.\u001b[0m\u001b[0mCOLOR_BGR2RGB\u001b[0m\u001b[0;34m)\u001b[0m\u001b[0;34m\u001b[0m\u001b[0;34m\u001b[0m\u001b[0m\n\u001b[1;32m      4\u001b[0m \u001b[0;31m#cv2_imshow(rgb)\u001b[0m\u001b[0;34m\u001b[0m\u001b[0;34m\u001b[0m\u001b[0m\n\u001b[1;32m      5\u001b[0m \u001b[0;34m\u001b[0m\u001b[0m\n",
            "\u001b[0;31mNameError\u001b[0m: name 'cv2' is not defined"
          ]
        }
      ]
    },
    {
      "cell_type": "code",
      "source": [
        "pares = list(zip(resultado['conf'], resultado['text']))\n",
        "pares"
      ],
      "metadata": {
        "colab": {
          "base_uri": "https://localhost:8080/"
        },
        "id": "k-fD0G8wD7eC",
        "outputId": "94251a47-b19e-4846-9e03-9764d6f60732"
      },
      "execution_count": null,
      "outputs": [
        {
          "output_type": "execute_result",
          "data": {
            "text/plain": [
              "[('-1', ''),\n",
              " ('-1', ''),\n",
              " ('-1', ''),\n",
              " ('-1', ''),\n",
              " (91, 'DESPESAS'),\n",
              " (91, 'BANCÁRIAS'),\n",
              " ('-1', ''),\n",
              " ('-1', ''),\n",
              " ('-1', ''),\n",
              " (92, 'Tarifa'),\n",
              " (91, 'Manutenção'),\n",
              " (91, 'de'),\n",
              " (92, 'Conta'),\n",
              " (93, '-'),\n",
              " (92, 'Sicredi'),\n",
              " (91, 'Norte'),\n",
              " (92, 'SC'),\n",
              " (94, '-'),\n",
              " (92, 'CESTA'),\n",
              " (92, 'DE'),\n",
              " (91, '02/2021'),\n",
              " (86, '10/02/2021'),\n",
              " (86, 'Débito'),\n",
              " (88, 'Aut.'),\n",
              " ('-1', ''),\n",
              " (90, 'RELACIONAMENTO'),\n",
              " ('-1', ''),\n",
              " (92, 'Tarifa'),\n",
              " (92, 'de'),\n",
              " (92, 'Compensação'),\n",
              " (93, 'de'),\n",
              " (92, 'Boletos'),\n",
              " (93, '-'),\n",
              " (92, 'Sicredi'),\n",
              " (91, 'Norte'),\n",
              " (93, 'SC'),\n",
              " (96, '-'),\n",
              " (92, 'TARIFA'),\n",
              " (86, '02/2021'),\n",
              " (86, '04/02/2021'),\n",
              " (79, 'Débito'),\n",
              " (82, 'Aut.'),\n",
              " ('-1', ''),\n",
              " ('-1', ''),\n",
              " ('-1', ''),\n",
              " (91, 'COM'),\n",
              " (93, 'R'),\n",
              " (87, 'LIQUIDAÇÃO')]"
            ]
          },
          "metadata": {},
          "execution_count": 71
        }
      ]
    },
    {
      "cell_type": "markdown",
      "source": [
        "**Atividade Aula 4**\n",
        "buscando hora"
      ],
      "metadata": {
        "id": "8s2c7_CD89ur"
      }
    },
    {
      "cell_type": "code",
      "source": [
        "\n",
        "# Importação\n",
        "img = cv2.imread('/content/drive/MyDrive/Colab Notebooks/Atividades/Aula4_cotacao.png')\n",
        "rgb = cv2.cvtColor(img, cv2.COLOR_BGR2RGB)\n",
        "#cv2_imshow(rgb)\n",
        "\n",
        "# Pré-processamento da imagem (imagem para metadados)\n",
        "config_tesseract = '--tessdata-dir tessdata --psm 6'  #--psm 4' 6\n",
        "resultado = pytesseract.image_to_data(rgb, config = config_tesseract, lang = 'por', output_type = Output.DICT)\n",
        "\n",
        "# Identificação da Palavras e Marcação\n",
        "img_copia = rgb.copy()\n",
        "min_conf = 25\n",
        "tipo_fonte = '/content/drive/MyDrive/Colab Notebooks/Imagens/calibri.ttf'\n",
        "dados = []\n",
        "cor_vermelho = (0,0,255)\n",
        "\n",
        "padrao_dados = '^([01]?[0-9]|2[0-3]):[0-5][0-9]:[0-5][0-9]\\.\\d$' # horas tipo ['16:38:00.0']\n",
        "\n",
        "for i in range(len(resultado['text'])):\n",
        "  confianca = int(resultado['conf'][i])\n",
        "\n",
        "  if confianca > min_conf:\n",
        "    texto = resultado['text'][i]\n",
        "\n",
        "    if re.match(padrao_dados, texto):\n",
        "      x, y, img = caixa_texto(resultado, img_copia, cor_vermelho)\n",
        "      img_copia = escreve_texto(texto, x, y, img_copia, tipo_fonte, tamanho_texto=18)\n",
        "      dados.append(texto)\n",
        "    else:\n",
        "      x, y, img = caixa_texto(resultado, img_copia)\n",
        "\n",
        "cv2_imshow(img_copia)\n"
      ],
      "metadata": {
        "id": "SE39XIO4pY6U",
        "colab": {
          "base_uri": "https://localhost:8080/",
          "height": 711
        },
        "outputId": "c613648c-51dd-48e3-b3a2-dc4416eb8909"
      },
      "execution_count": null,
      "outputs": [
        {
          "output_type": "display_data",
          "data": {
            "text/plain": [
              "<PIL.Image.Image image mode=RGB size=658x694>"
            ],
            "image/png": "[encoded data removed]"
          },
          "metadata": {}
        }
      ]
    },
    {
      "cell_type": "code",
      "source": [
        "dados"
      ],
      "metadata": {
        "colab": {
          "base_uri": "https://localhost:8080/"
        },
        "id": "Wiv-4Qhc7Lyr",
        "outputId": "67445fe4-d7ee-4ab2-841a-6eb6bb129162"
      },
      "execution_count": null,
      "outputs": [
        {
          "output_type": "execute_result",
          "data": {
            "text/plain": [
              "['11:29:00.0',\n",
              " '16:38:00.0',\n",
              " '11:17:00.0',\n",
              " '11:31:00.0',\n",
              " '12:40:00.0',\n",
              " '18:50:00.0',\n",
              " '16:30:00.0',\n",
              " '16:04:00.0',\n",
              " '17:13:00.0']"
            ]
          },
          "metadata": {},
          "execution_count": 64
        }
      ]
    },
    {
      "cell_type": "code",
      "source": [
        "pares = list(zip(resultado['conf'], resultado['text']))\n",
        "pares"
      ],
      "metadata": {
        "colab": {
          "base_uri": "https://localhost:8080/"
        },
        "id": "UMLX3fHJ_n6c",
        "outputId": "b984115d-fba1-4dfd-bb0f-2c38ab70d068"
      },
      "execution_count": null,
      "outputs": [
        {
          "output_type": "execute_result",
          "data": {
            "text/plain": [
              "[('-1', ''),\n",
              " ('-1', ''),\n",
              " ('-1', ''),\n",
              " ('-1', ''),\n",
              " (92, 'Cotação'),\n",
              " (92, 'Atualizada'),\n",
              " (72, 'Dolar.'),\n",
              " (87, 'Real.csv'),\n",
              " (91, '(341.78'),\n",
              " (67, 'kB)'),\n",
              " (20, '&>'),\n",
              " ('-1', ''),\n",
              " (79, 'Detail'),\n",
              " (61, 'Compact'),\n",
              " (64, 'Column'),\n",
              " (18, '3013'),\n",
              " (88, 'columas'),\n",
              " (89, 'v'),\n",
              " ('-1', ''),\n",
              " (36, 'tH'),\n",
              " (36, 'Cotacao'),\n",
              " (51, 'Compra'),\n",
              " (75, '=='),\n",
              " (7, '—'),\n",
              " (81, 'itCotacaoVenta'),\n",
              " (63, '—'),\n",
              " (63, '='),\n",
              " (6, '—'),\n",
              " (47, 'MDataehoradaC..'),\n",
              " (59, 'E'),\n",
              " ('-1', ''),\n",
              " ('-1', ''),\n",
              " (96, '356'),\n",
              " (82, '520'),\n",
              " ('-1', ''),\n",
              " (88, 'total'),\n",
              " (71, 'values'),\n",
              " (88, 'total'),\n",
              " (78, 'values'),\n",
              " ('-1', ''),\n",
              " (88, 'o'),\n",
              " (66, '59.9k'),\n",
              " ('-1', ''),\n",
              " (94, '2814'),\n",
              " (95, '2828'),\n",
              " (87, '1984-12-03'),\n",
              " ('-1', ''),\n",
              " (54, '11:29:00.0'),\n",
              " ('-1', ''),\n",
              " (94, '2814'),\n",
              " (95, '2828'),\n",
              " (86, '1984-12-03'),\n",
              " ('-1', ''),\n",
              " (83, '16:38:00.0'),\n",
              " ('-1', ''),\n",
              " (96, '2867'),\n",
              " (91, '2881'),\n",
              " (89, '1984-12-04'),\n",
              " ('-1', ''),\n",
              " (33, '11:17:00.0'),\n",
              " ('-1', ''),\n",
              " (96, '2867'),\n",
              " (91, '2881'),\n",
              " (86, '1984-12-05'),\n",
              " ('-1', ''),\n",
              " (51, '11:31:00.0'),\n",
              " ('-1', ''),\n",
              " (96, '2867'),\n",
              " (91, '2881'),\n",
              " (86, '1984-12-05'),\n",
              " ('-1', ''),\n",
              " (61, '12:40:00.0'),\n",
              " ('-1', ''),\n",
              " (94, '2908'),\n",
              " (93, '2923'),\n",
              " (87, '1984-12-05'),\n",
              " ('-1', ''),\n",
              " (77, '18:50:00.0'),\n",
              " ('-1', ''),\n",
              " (94, '2908'),\n",
              " (93, '2923'),\n",
              " (87, '1984-12-06'),\n",
              " ('-1', ''),\n",
              " (43, '16:30:00.0'),\n",
              " ('-1', ''),\n",
              " (94, '2908'),\n",
              " (93, '2923'),\n",
              " (89, '1984-12-07'),\n",
              " ('-1', ''),\n",
              " (76, '16:04:00.0'),\n",
              " ('-1', ''),\n",
              " (93, '2950'),\n",
              " (95, '2965'),\n",
              " (45, '1984-12-10'),\n",
              " ('-1', ''),\n",
              " (56, '17:13:00.0')]"
            ]
          },
          "metadata": {},
          "execution_count": 68
        }
      ]
    },
    {
      "cell_type": "code",
      "source": [],
      "metadata": {
        "id": "gIb1in_5Hr6o"
      },
      "execution_count": null,
      "outputs": []
    }
  ]
}